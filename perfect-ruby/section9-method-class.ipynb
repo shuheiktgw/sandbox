{
 "cells": [
  {
   "cell_type": "code",
   "execution_count": 1,
   "metadata": {
    "collapsed": false
   },
   "outputs": [
    {
     "data": {
      "text/plain": [
       "2"
      ]
     },
     "execution_count": 1,
     "metadata": {},
     "output_type": "execute_result"
    }
   ],
   "source": [
    "double = Proc.new{|x| x * 2}\n",
    "double.(1)"
   ]
  },
  {
   "cell_type": "code",
   "execution_count": 2,
   "metadata": {
    "collapsed": false
   },
   "outputs": [
    {
     "data": {
      "text/plain": [
       "#<Method: Array#shift>"
      ]
     },
     "execution_count": 2,
     "metadata": {},
     "output_type": "execute_result"
    }
   ],
   "source": [
    "array = [1,2,3,4,5]\n",
    "array_shift = array.method(:shift)"
   ]
  },
  {
   "cell_type": "code",
   "execution_count": 3,
   "metadata": {
    "collapsed": false
   },
   "outputs": [
    {
     "data": {
      "text/plain": [
       "1"
      ]
     },
     "execution_count": 3,
     "metadata": {},
     "output_type": "execute_result"
    }
   ],
   "source": [
    "array_shift.call"
   ]
  },
  {
   "cell_type": "code",
   "execution_count": 4,
   "metadata": {
    "collapsed": false
   },
   "outputs": [
    {
     "name": "stdout",
     "output_type": "stream",
     "text": [
      "bowwow\n",
      "wan\n",
      "kyankyan\n",
      "wan\n"
     ]
    }
   ],
   "source": [
    "class Dog\n",
    "  def bark\n",
    "    puts 'wan'\n",
    "  end\n",
    "end\n",
    "\n",
    "dog = Dog.new\n",
    "bark_wan = dog.method(:bark)\n",
    "\n",
    "class Dog\n",
    "  def bark\n",
    "    puts 'bowwow'\n",
    "  end\n",
    "end\n",
    "\n",
    "dog.bark\n",
    "bark_wan.call\n",
    "\n",
    "def dog.bark\n",
    "  puts 'kyankyan'\n",
    "end\n",
    "\n",
    "dog.bark\n",
    "bark_wan.call"
   ]
  },
  {
   "cell_type": "code",
   "execution_count": 7,
   "metadata": {
    "collapsed": false
   },
   "outputs": [
    {
     "name": "stdout",
     "output_type": "stream",
     "text": [
      "0\n",
      "1\n",
      "2\n"
     ]
    }
   ],
   "source": [
    "class Arity\n",
    "  def arity_0; end\n",
    "  def arity_1(x); end\n",
    "  def arity_2(x, y); end\n",
    "end\n",
    "\n",
    "arity_obj = Arity.new\n",
    "puts arity_obj.method(:arity_0).arity\n",
    "puts arity_obj.method(:arity_1).arity\n",
    "puts arity_obj.method(:arity_2).arity"
   ]
  },
  {
   "cell_type": "code",
   "execution_count": null,
   "metadata": {
    "collapsed": true
   },
   "outputs": [],
   "source": []
  }
 ],
 "metadata": {
  "kernelspec": {
   "display_name": "Ruby 2.2.5",
   "language": "ruby",
   "name": "ruby"
  },
  "language_info": {
   "file_extension": ".rb",
   "mimetype": "application/x-ruby",
   "name": "ruby",
   "version": "2.2.5"
  }
 },
 "nbformat": 4,
 "nbformat_minor": 0
}
