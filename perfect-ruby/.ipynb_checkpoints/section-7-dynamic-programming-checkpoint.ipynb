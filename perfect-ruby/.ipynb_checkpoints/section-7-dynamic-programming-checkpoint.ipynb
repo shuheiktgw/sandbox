{
 "cells": [
  {
   "cell_type": "code",
   "execution_count": 1,
   "metadata": {
    "collapsed": false
   },
   "outputs": [
    {
     "data": {
      "text/plain": [
       ":steps"
      ]
     },
     "execution_count": 1,
     "metadata": {},
     "output_type": "execute_result"
    }
   ],
   "source": [
    "class Numeric\n",
    "  def steps\n",
    "    return [] if self <= 0\n",
    "    0.upto(self).to_a\n",
    "  end\n",
    "end"
   ]
  },
  {
   "cell_type": "code",
   "execution_count": 2,
   "metadata": {
    "collapsed": false
   },
   "outputs": [
    {
     "data": {
      "text/plain": [
       "[0, 1, 2, 3, 4, 5, 6, 7, 8, 9, 10]"
      ]
     },
     "execution_count": 2,
     "metadata": {},
     "output_type": "execute_result"
    }
   ],
   "source": [
    "10.steps"
   ]
  },
  {
   "cell_type": "code",
   "execution_count": 3,
   "metadata": {
    "collapsed": false
   },
   "outputs": [
    {
     "data": {
      "text/plain": [
       "[]"
      ]
     },
     "execution_count": 3,
     "metadata": {},
     "output_type": "execute_result"
    }
   ],
   "source": [
    "-1.steps"
   ]
  },
  {
   "cell_type": "code",
   "execution_count": 14,
   "metadata": {
    "collapsed": false
   },
   "outputs": [
    {
     "data": {
      "text/plain": [
       ":method_missing"
      ]
     },
     "execution_count": 14,
     "metadata": {},
     "output_type": "execute_result"
    }
   ],
   "source": [
    "class DelegateArray\n",
    "  def initialize\n",
    "    @array = []\n",
    "  end\n",
    "  \n",
    "  def method_missing(name, *args)\n",
    "    @array.send name, *args\n",
    "  end\n",
    "end"
   ]
  },
  {
   "cell_type": "code",
   "execution_count": 15,
   "metadata": {
    "collapsed": false
   },
   "outputs": [
    {
     "data": {
      "text/plain": [
       "[1]"
      ]
     },
     "execution_count": 15,
     "metadata": {},
     "output_type": "execute_result"
    }
   ],
   "source": [
    "delegate_array = DelegateArray.new\n",
    "delegate_array << 1"
   ]
  },
  {
   "cell_type": "code",
   "execution_count": 16,
   "metadata": {
    "collapsed": false
   },
   "outputs": [
    {
     "data": {
      "text/plain": [
       ":method_missing"
      ]
     },
     "execution_count": 16,
     "metadata": {},
     "output_type": "execute_result"
    }
   ],
   "source": [
    "class OverrideMethodMissing\n",
    "  def method_missing(method_name, *args)\n",
    "    if method_name == :target_method\n",
    "      return 'target_method is called'\n",
    "    end\n",
    "    \n",
    "    super\n",
    "  end\n",
    "end"
   ]
  },
  {
   "cell_type": "code",
   "execution_count": 17,
   "metadata": {
    "collapsed": false
   },
   "outputs": [
    {
     "name": "stdout",
     "output_type": "stream",
     "text": [
      "main\n",
      "#<Object:0x007faf65241f00>\n",
      "Object\n",
      "Kernel\n"
     ]
    },
    {
     "data": {
      "text/plain": [
       "Kernel"
      ]
     },
     "execution_count": 17,
     "metadata": {},
     "output_type": "execute_result"
    }
   ],
   "source": [
    "eval 'p self'\n",
    "\n",
    "object = Object.new\n",
    "object.instance_eval {p self}\n",
    "object.class.class_eval {p self}\n",
    "\n",
    "Kernel.module_eval {p self}"
   ]
  },
  {
   "cell_type": "code",
   "execution_count": 19,
   "metadata": {
    "collapsed": false
   },
   "outputs": [
    {
     "data": {
      "text/plain": [
       "2"
      ]
     },
     "execution_count": 19,
     "metadata": {},
     "output_type": "execute_result"
    }
   ],
   "source": [
    "eval '1 + 1'"
   ]
  },
  {
   "cell_type": "code",
   "execution_count": 24,
   "metadata": {
    "collapsed": false
   },
   "outputs": [
    {
     "data": {
      "text/plain": [
       "[\"first_val\", \"second_val\", \"third_val\"]"
      ]
     },
     "execution_count": 24,
     "metadata": {},
     "output_type": "execute_result"
    }
   ],
   "source": [
    "class LoggingInstanceVariable\n",
    "  logging_instance_val_names = %w(first_val second_val third_val)\n",
    "  \n",
    "  logging_instance_val_names.each do |val_name|\n",
    "    eval <<-END_OF_DEF\n",
    "attr_reader :#{val_name}, :before_#{val_name}\n",
    "def #{val_name}=(val)\n",
    "@before_#{val_name} = @#{val_name}\n",
    "@#{val_name} = val\n",
    "end\n",
    "END_OF_DEF\n",
    "  end\n",
    "end"
   ]
  },
  {
   "cell_type": "code",
   "execution_count": 30,
   "metadata": {
    "collapsed": false
   },
   "outputs": [
    {
     "name": "stdout",
     "output_type": "stream",
     "text": [
      "2\n",
      "1\n"
     ]
    }
   ],
   "source": [
    "obj = LoggingInstanceVariable.new\n",
    "\n",
    "obj.first_val = 1\n",
    "obj.first_val = 2\n",
    "\n",
    "puts obj.first_val\n",
    "puts obj.before_first_val"
   ]
  },
  {
   "cell_type": "code",
   "execution_count": 3,
   "metadata": {
    "collapsed": false
   },
   "outputs": [
    {
     "name": "stdout",
     "output_type": "stream",
     "text": [
      "\n"
     ]
    }
   ],
   "source": [
    "puts eval '@instance_val'"
   ]
  },
  {
   "cell_type": "code",
   "execution_count": 4,
   "metadata": {
    "collapsed": false
   },
   "outputs": [
    {
     "ename": "NameError",
     "evalue": "undefined local variable or method `local_val' for main:Object",
     "output_type": "error",
     "traceback": [
      "\u001b[31mNameError\u001b[0m: undefined local variable or method `local_val' for main:Object",
      "\u001b[37m(pry):4:in `eval'\u001b[0m",
      "\u001b[37m(pry):4:in `eval'\u001b[0m",
      "\u001b[37m(pry):4:in `<main>'\u001b[0m",
      "\u001b[37m/Users/kitagawa-shuhei/.rbenv/versions/2.2.5/lib/ruby/gems/2.2.0/gems/pry-0.10.4/lib/pry/pry_instance.rb:355:in `eval'\u001b[0m",
      "\u001b[37m/Users/kitagawa-shuhei/.rbenv/versions/2.2.5/lib/ruby/gems/2.2.0/gems/pry-0.10.4/lib/pry/pry_instance.rb:355:in `evaluate_ruby'\u001b[0m",
      "\u001b[37m/Users/kitagawa-shuhei/.rbenv/versions/2.2.5/lib/ruby/gems/2.2.0/gems/pry-0.10.4/lib/pry/pry_instance.rb:323:in `handle_line'\u001b[0m",
      "\u001b[37m/Users/kitagawa-shuhei/.rbenv/versions/2.2.5/lib/ruby/gems/2.2.0/gems/pry-0.10.4/lib/pry/pry_instance.rb:243:in `block (2 levels) in eval'\u001b[0m",
      "\u001b[37m/Users/kitagawa-shuhei/.rbenv/versions/2.2.5/lib/ruby/gems/2.2.0/gems/pry-0.10.4/lib/pry/pry_instance.rb:242:in `catch'\u001b[0m",
      "\u001b[37m/Users/kitagawa-shuhei/.rbenv/versions/2.2.5/lib/ruby/gems/2.2.0/gems/pry-0.10.4/lib/pry/pry_instance.rb:242:in `block in eval'\u001b[0m",
      "\u001b[37m/Users/kitagawa-shuhei/.rbenv/versions/2.2.5/lib/ruby/gems/2.2.0/gems/pry-0.10.4/lib/pry/pry_instance.rb:241:in `catch'\u001b[0m",
      "\u001b[37m/Users/kitagawa-shuhei/.rbenv/versions/2.2.5/lib/ruby/gems/2.2.0/gems/pry-0.10.4/lib/pry/pry_instance.rb:241:in `eval'\u001b[0m",
      "\u001b[37m/Users/kitagawa-shuhei/.rbenv/versions/2.2.5/lib/ruby/gems/2.2.0/gems/iruby-0.2.9/lib/iruby/backend.rb:65:in `eval'\u001b[0m",
      "\u001b[37m/Users/kitagawa-shuhei/.rbenv/versions/2.2.5/lib/ruby/gems/2.2.0/gems/iruby-0.2.9/lib/iruby/backend.rb:12:in `eval'\u001b[0m",
      "\u001b[37m/Users/kitagawa-shuhei/.rbenv/versions/2.2.5/lib/ruby/gems/2.2.0/gems/iruby-0.2.9/lib/iruby/kernel.rb:87:in `execute_request'\u001b[0m",
      "\u001b[37m/Users/kitagawa-shuhei/.rbenv/versions/2.2.5/lib/ruby/gems/2.2.0/gems/iruby-0.2.9/lib/iruby/kernel.rb:47:in `dispatch'\u001b[0m",
      "\u001b[37m/Users/kitagawa-shuhei/.rbenv/versions/2.2.5/lib/ruby/gems/2.2.0/gems/iruby-0.2.9/lib/iruby/kernel.rb:37:in `run'\u001b[0m",
      "\u001b[37m/Users/kitagawa-shuhei/.rbenv/versions/2.2.5/lib/ruby/gems/2.2.0/gems/iruby-0.2.9/lib/iruby/command.rb:70:in `run_kernel'\u001b[0m",
      "\u001b[37m/Users/kitagawa-shuhei/.rbenv/versions/2.2.5/lib/ruby/gems/2.2.0/gems/iruby-0.2.9/lib/iruby/command.rb:34:in `run'\u001b[0m",
      "\u001b[37m/Users/kitagawa-shuhei/.rbenv/versions/2.2.5/lib/ruby/gems/2.2.0/gems/iruby-0.2.9/bin/iruby:5:in `<top (required)>'\u001b[0m",
      "\u001b[37m/Users/kitagawa-shuhei/.rbenv/versions/2.2.5/bin/iruby:23:in `load'\u001b[0m",
      "\u001b[37m/Users/kitagawa-shuhei/.rbenv/versions/2.2.5/bin/iruby:23:in `<main>'\u001b[0m"
     ]
    }
   ],
   "source": [
    "eval 'local_val'"
   ]
  },
  {
   "cell_type": "code",
   "execution_count": 5,
   "metadata": {
    "collapsed": false
   },
   "outputs": [
    {
     "ename": "NameError",
     "evalue": "undefined local variable or method `privaet_method' for main:Object",
     "output_type": "error",
     "traceback": [
      "\u001b[31mNameError\u001b[0m: undefined local variable or method `privaet_method' for main:Object",
      "\u001b[37m(pry):5:in `eval'\u001b[0m",
      "\u001b[37m(pry):5:in `eval'\u001b[0m",
      "\u001b[37m(pry):5:in `<main>'\u001b[0m",
      "\u001b[37m/Users/kitagawa-shuhei/.rbenv/versions/2.2.5/lib/ruby/gems/2.2.0/gems/pry-0.10.4/lib/pry/pry_instance.rb:355:in `eval'\u001b[0m",
      "\u001b[37m/Users/kitagawa-shuhei/.rbenv/versions/2.2.5/lib/ruby/gems/2.2.0/gems/pry-0.10.4/lib/pry/pry_instance.rb:355:in `evaluate_ruby'\u001b[0m",
      "\u001b[37m/Users/kitagawa-shuhei/.rbenv/versions/2.2.5/lib/ruby/gems/2.2.0/gems/pry-0.10.4/lib/pry/pry_instance.rb:323:in `handle_line'\u001b[0m",
      "\u001b[37m/Users/kitagawa-shuhei/.rbenv/versions/2.2.5/lib/ruby/gems/2.2.0/gems/pry-0.10.4/lib/pry/pry_instance.rb:243:in `block (2 levels) in eval'\u001b[0m",
      "\u001b[37m/Users/kitagawa-shuhei/.rbenv/versions/2.2.5/lib/ruby/gems/2.2.0/gems/pry-0.10.4/lib/pry/pry_instance.rb:242:in `catch'\u001b[0m",
      "\u001b[37m/Users/kitagawa-shuhei/.rbenv/versions/2.2.5/lib/ruby/gems/2.2.0/gems/pry-0.10.4/lib/pry/pry_instance.rb:242:in `block in eval'\u001b[0m",
      "\u001b[37m/Users/kitagawa-shuhei/.rbenv/versions/2.2.5/lib/ruby/gems/2.2.0/gems/pry-0.10.4/lib/pry/pry_instance.rb:241:in `catch'\u001b[0m",
      "\u001b[37m/Users/kitagawa-shuhei/.rbenv/versions/2.2.5/lib/ruby/gems/2.2.0/gems/pry-0.10.4/lib/pry/pry_instance.rb:241:in `eval'\u001b[0m",
      "\u001b[37m/Users/kitagawa-shuhei/.rbenv/versions/2.2.5/lib/ruby/gems/2.2.0/gems/iruby-0.2.9/lib/iruby/backend.rb:65:in `eval'\u001b[0m",
      "\u001b[37m/Users/kitagawa-shuhei/.rbenv/versions/2.2.5/lib/ruby/gems/2.2.0/gems/iruby-0.2.9/lib/iruby/backend.rb:12:in `eval'\u001b[0m",
      "\u001b[37m/Users/kitagawa-shuhei/.rbenv/versions/2.2.5/lib/ruby/gems/2.2.0/gems/iruby-0.2.9/lib/iruby/kernel.rb:87:in `execute_request'\u001b[0m",
      "\u001b[37m/Users/kitagawa-shuhei/.rbenv/versions/2.2.5/lib/ruby/gems/2.2.0/gems/iruby-0.2.9/lib/iruby/kernel.rb:47:in `dispatch'\u001b[0m",
      "\u001b[37m/Users/kitagawa-shuhei/.rbenv/versions/2.2.5/lib/ruby/gems/2.2.0/gems/iruby-0.2.9/lib/iruby/kernel.rb:37:in `run'\u001b[0m",
      "\u001b[37m/Users/kitagawa-shuhei/.rbenv/versions/2.2.5/lib/ruby/gems/2.2.0/gems/iruby-0.2.9/lib/iruby/command.rb:70:in `run_kernel'\u001b[0m",
      "\u001b[37m/Users/kitagawa-shuhei/.rbenv/versions/2.2.5/lib/ruby/gems/2.2.0/gems/iruby-0.2.9/lib/iruby/command.rb:34:in `run'\u001b[0m",
      "\u001b[37m/Users/kitagawa-shuhei/.rbenv/versions/2.2.5/lib/ruby/gems/2.2.0/gems/iruby-0.2.9/bin/iruby:5:in `<top (required)>'\u001b[0m",
      "\u001b[37m/Users/kitagawa-shuhei/.rbenv/versions/2.2.5/bin/iruby:23:in `load'\u001b[0m",
      "\u001b[37m/Users/kitagawa-shuhei/.rbenv/versions/2.2.5/bin/iruby:23:in `<main>'\u001b[0m"
     ]
    }
   ],
   "source": [
    "eval 'privaet_method'"
   ]
  },
  {
   "cell_type": "code",
   "execution_count": null,
   "metadata": {
    "collapsed": true
   },
   "outputs": [],
   "source": []
  },
  {
   "cell_type": "code",
   "execution_count": null,
   "metadata": {
    "collapsed": true
   },
   "outputs": [],
   "source": []
  }
 ],
 "metadata": {
  "kernelspec": {
   "display_name": "Ruby 2.2.5",
   "language": "ruby",
   "name": "ruby"
  },
  "language_info": {
   "file_extension": ".rb",
   "mimetype": "application/x-ruby",
   "name": "ruby",
   "version": "2.2.5"
  }
 },
 "nbformat": 4,
 "nbformat_minor": 0
}
