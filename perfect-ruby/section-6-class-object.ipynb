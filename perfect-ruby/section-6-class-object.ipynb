{
 "cells": [
  {
   "cell_type": "code",
   "execution_count": 1,
   "metadata": {
    "collapsed": false
   },
   "outputs": [
    {
     "data": {
      "text/plain": [
       ":class_instance_val"
      ]
     },
     "execution_count": 1,
     "metadata": {},
     "output_type": "execute_result"
    }
   ],
   "source": [
    "class Klass\n",
    "  @class_insrance_val = :class_instance_val\n",
    "end"
   ]
  },
  {
   "cell_type": "code",
   "execution_count": 11,
   "metadata": {
    "collapsed": false
   },
   "outputs": [
    {
     "name": "stdout",
     "output_type": "stream",
     "text": [
      "0\n",
      "5\n"
     ]
    }
   ],
   "source": [
    "class InstanceCountClass\n",
    "  @instance_count = 0\n",
    "  \n",
    "  def self.instance_count\n",
    "    @instance_count\n",
    "  end \n",
    "  \n",
    "  def self.instance_count_up\n",
    "    @instance_count += 1 if @instance_count\n",
    "  end\n",
    "  \n",
    "  def initialize\n",
    "    self.class.instance_count_up\n",
    "  end\n",
    "end\n",
    "\n",
    "puts InstanceCountClass.instance_count\n",
    "\n",
    "5.times do\n",
    "  InstanceCountClass.new\n",
    "end\n",
    "\n",
    "puts InstanceCountClass.instance_count"
   ]
  },
  {
   "cell_type": "code",
   "execution_count": 12,
   "metadata": {
    "collapsed": false
   },
   "outputs": [
    {
     "name": "stdout",
     "output_type": "stream",
     "text": [
      "\n",
      "5\n",
      "\n"
     ]
    }
   ],
   "source": [
    "class NewInstanceCountClass < InstanceCountClass\n",
    "end\n",
    "\n",
    "puts NewInstanceCountClass.instance_count\n",
    "\n",
    "5.times do\n",
    "  NewInstanceCountClass.new\n",
    "end\n",
    "\n",
    "puts InstanceCountClass.instance_count\n",
    "puts NewInstanceCountClass.instance_count\n"
   ]
  },
  {
   "cell_type": "code",
   "execution_count": 14,
   "metadata": {
    "collapsed": false
   },
   "outputs": [
    {
     "data": {
      "text/plain": [
       ":second_included_module"
      ]
     },
     "execution_count": 14,
     "metadata": {},
     "output_type": "execute_result"
    }
   ],
   "source": [
    "module FirstIncludedModule \n",
    "  def same_name_method\n",
    "    :first_included_module\n",
    "  end\n",
    "end\n",
    "\n",
    "module SecondIncludedModule \n",
    "  def same_name_method\n",
    "    :second_included_module\n",
    "  end\n",
    "end\n",
    "\n",
    "module ThirdIncludedModule \n",
    "  def same_name_method\n",
    "    :third_included_module\n",
    "  end\n",
    "end\n",
    "\n",
    "class Klass\n",
    "  include FirstIncludedModule\n",
    "  include SecondIncludedModule\n",
    "end\n",
    "\n",
    "object = Klass.new\n",
    "object.same_name_method"
   ]
  },
  {
   "cell_type": "code",
   "execution_count": 15,
   "metadata": {
    "collapsed": false
   },
   "outputs": [
    {
     "data": {
      "text/plain": [
       ":first_included_module"
      ]
     },
     "execution_count": 15,
     "metadata": {},
     "output_type": "execute_result"
    }
   ],
   "source": [
    "class Klass\n",
    "  define_method :same_name_method, FirstIncludedModule.instance_method(:same_name_method)\n",
    "end\n",
    "\n",
    "object = Klass.new\n",
    "object.same_name_method"
   ]
  },
  {
   "cell_type": "code",
   "execution_count": 19,
   "metadata": {
    "collapsed": false
   },
   "outputs": [
    {
     "name": "stdout",
     "output_type": "stream",
     "text": [
      "false\n",
      "true\n"
     ]
    }
   ],
   "source": [
    "class OriginalClass\n",
    "end\n",
    "\n",
    "obj = OriginalClass.new\n",
    "\n",
    "def obj.new_singleton_method\n",
    "  :new_singleton_method\n",
    "end\n",
    "\n",
    "puts obj.class.method_defined? :new_singleton_method\n",
    "puts obj.singleton_class.method_defined? :new_singleton_method"
   ]
  },
  {
   "cell_type": "code",
   "execution_count": 20,
   "metadata": {
    "collapsed": false
   },
   "outputs": [
    {
     "data": {
      "text/plain": [
       "OriginalClass"
      ]
     },
     "execution_count": 20,
     "metadata": {},
     "output_type": "execute_result"
    }
   ],
   "source": [
    "obj.singleton_class.superclass"
   ]
  },
  {
   "cell_type": "code",
   "execution_count": 22,
   "metadata": {
    "collapsed": false
   },
   "outputs": [
    {
     "data": {
      "text/plain": [
       ":extend_method"
      ]
     },
     "execution_count": 22,
     "metadata": {},
     "output_type": "execute_result"
    }
   ],
   "source": [
    "module ExtendedModule\n",
    "  def extend_method\n",
    "    :extend_method\n",
    "  end\n",
    "end\n",
    "\n",
    "obj = Object.new\n",
    "obj.extend ExtendedModule \n",
    "\n",
    "obj.extend_method"
   ]
  },
  {
   "cell_type": "code",
   "execution_count": 23,
   "metadata": {
    "collapsed": false
   },
   "outputs": [
    {
     "data": {
      "text/plain": [
       ":hello"
      ]
     },
     "execution_count": 23,
     "metadata": {},
     "output_type": "execute_result"
    }
   ],
   "source": [
    "class BaseClass\n",
    "  def hello\n",
    "    :hello\n",
    "  end\n",
    "end\n",
    "\n",
    "base_object = BaseClass.new\n",
    "base_object.hello"
   ]
  },
  {
   "cell_type": "code",
   "execution_count": 24,
   "metadata": {
    "collapsed": false
   },
   "outputs": [
    {
     "data": {
      "text/plain": [
       ":hello"
      ]
     },
     "execution_count": 24,
     "metadata": {},
     "output_type": "execute_result"
    }
   ],
   "source": [
    "class InheritClass < BaseClass\n",
    "end\n",
    "\n",
    "inherit_object = InheritClass.new\n",
    "inherit_object.hello"
   ]
  },
  {
   "cell_type": "code",
   "execution_count": 25,
   "metadata": {
    "collapsed": false
   },
   "outputs": [
    {
     "data": {
      "text/plain": [
       ":singleton_method_hello"
      ]
     },
     "execution_count": 25,
     "metadata": {},
     "output_type": "execute_result"
    }
   ],
   "source": [
    "def base_object.hello\n",
    "  :singleton_method_hello\n",
    "end\n",
    "\n",
    "\n",
    "base_object.hello"
   ]
  },
  {
   "cell_type": "code",
   "execution_count": 26,
   "metadata": {
    "collapsed": false
   },
   "outputs": [
    {
     "data": {
      "text/plain": [
       ":hello_from_module"
      ]
     },
     "execution_count": 26,
     "metadata": {},
     "output_type": "execute_result"
    }
   ],
   "source": [
    "module HelloModule\n",
    "  def hello_from_module\n",
    "    :hello_from_module\n",
    "  end\n",
    "end\n",
    "\n",
    "class InheritClass\n",
    "  include HelloModule\n",
    "end\n",
    "\n",
    "inherit_object = InheritClass.new\n",
    "inherit_object.hello_from_module"
   ]
  },
  {
   "cell_type": "code",
   "execution_count": 27,
   "metadata": {
    "collapsed": false
   },
   "outputs": [
    {
     "data": {
      "text/plain": [
       ":prepend_method"
      ]
     },
     "execution_count": 27,
     "metadata": {},
     "output_type": "execute_result"
    }
   ],
   "source": [
    "module PrependModule\n",
    "  def prepend_method\n",
    "    :prepend_method\n",
    "  end\n",
    "end\n",
    "\n",
    "class PrependClass\n",
    "  prepend PrependModule\n",
    "end\n",
    "\n",
    "prepend_obj = PrependClass.new\n",
    "prepend_obj.prepend_method"
   ]
  },
  {
   "cell_type": "code",
   "execution_count": 29,
   "metadata": {
    "collapsed": false
   },
   "outputs": [
    {
     "data": {
      "text/plain": [
       ":from_prepend_module"
      ]
     },
     "execution_count": 29,
     "metadata": {},
     "output_type": "execute_result"
    }
   ],
   "source": [
    "module IncludeModule\n",
    "  def embeded_method\n",
    "    :from_include_module\n",
    "  end\n",
    "end\n",
    "\n",
    "module PrependModule\n",
    "  def embeded_method\n",
    "    :from_prepend_module\n",
    "  end\n",
    "end\n",
    "\n",
    "class EmbdedClass\n",
    "  prepend PrependModule\n",
    "  include IncludeModule \n",
    "end\n",
    "\n",
    "embeded_obj = EmbdedClass.new\n",
    "embeded_obj.embeded_method"
   ]
  },
  {
   "cell_type": "code",
   "execution_count": 33,
   "metadata": {
    "collapsed": false
   },
   "outputs": [],
   "source": [
    "# class String\n",
    "#   def hello\n",
    "#     puts \"#{self} hello\"\n",
    "#   end\n",
    "# end\n",
    "\n",
    "# 'Bob'.hello"
   ]
  },
  {
   "cell_type": "code",
   "execution_count": 34,
   "metadata": {
    "collapsed": false
   },
   "outputs": [
    {
     "data": {
      "text/plain": [
       "#<refinement:String@RefineModule>"
      ]
     },
     "execution_count": 34,
     "metadata": {},
     "output_type": "execute_result"
    }
   ],
   "source": [
    "module RefineModule\n",
    "  refine String do\n",
    "    def hello\n",
    "      puts \"#{self} hello\"\n",
    "    end\n",
    "  end\n",
    "end"
   ]
  },
  {
   "cell_type": "code",
   "execution_count": 35,
   "metadata": {
    "collapsed": false
   },
   "outputs": [
    {
     "name": "stdout",
     "output_type": "stream",
     "text": [
      "Bob hello\n"
     ]
    }
   ],
   "source": [
    "using RefineModule\n",
    "'Bob'.hello"
   ]
  },
  {
   "cell_type": "code",
   "execution_count": null,
   "metadata": {
    "collapsed": true
   },
   "outputs": [],
   "source": []
  }
 ],
 "metadata": {
  "kernelspec": {
   "display_name": "Ruby 2.2.5",
   "language": "ruby",
   "name": "ruby"
  },
  "language_info": {
   "file_extension": ".rb",
   "mimetype": "application/x-ruby",
   "name": "ruby",
   "version": "2.2.5"
  }
 },
 "nbformat": 4,
 "nbformat_minor": 0
}
